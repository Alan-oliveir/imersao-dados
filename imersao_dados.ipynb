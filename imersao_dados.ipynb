{
 "nbformat": 4,
 "nbformat_minor": 0,
 "metadata": {
  "colab": {
   "provenance": [],
   "collapsed_sections": [
    "typm1igI7aDr",
    "ZHUv0vzWMAMZ",
    "_mpHEonFMFxX",
    "cF4cKLZ-MZgB",
    "ULdAvyEbMd1-",
    "GbqEJn1sMfkO",
    "dQwYzhSRMve-",
    "RK2gAAcOJLmQ"
   ]
  },
  "kernelspec": {
   "name": "python3",
   "display_name": "Python 3"
  },
  "language_info": {
   "name": "python"
  }
 },
 "cells": [
  {
   "cell_type": "markdown",
   "metadata": {
    "id": "bEXnODrs7O5A"
   },
   "source": [
    "# Análise de Dados com Pandas\n"
   ]
  },
  {
   "cell_type": "markdown",
   "source": [
    "### Importando dados e obtendo informações iniciais"
   ],
   "metadata": {
    "id": "typm1igI7aDr"
   }
  },
  {
   "cell_type": "code",
   "execution_count": 1,
   "metadata": {
    "id": "ZmAvUfXxv3rk"
   },
   "outputs": [],
   "source": [
    "import pandas as pd"
   ]
  },
  {
   "cell_type": "code",
   "execution_count": 2,
   "metadata": {
    "id": "RFBZu4syv7SL"
   },
   "outputs": [],
   "source": [
    "df = pd.read_csv(\"https://raw.githubusercontent.com/guilhermeonrails/data-jobs/refs/heads/main/salaries.csv\")"
   ]
  },
  {
   "cell_type": "code",
   "metadata": {
    "colab": {
     "base_uri": "https://localhost:8080/",
     "height": 313
    },
    "id": "GMfkH19IwLmk",
    "outputId": "817c78ba-fc62-49d6-c8e4-6d190dfcee4a"
   },
   "source": [
    "df.head()"
   ],
   "outputs": [],
   "execution_count": null
  },
  {
   "cell_type": "code",
   "metadata": {
    "colab": {
     "base_uri": "https://localhost:8080/"
    },
    "id": "o0hh5wZAwM8u",
    "outputId": "18cbe455-b5b5-48e3-9102-3792ba292ae0"
   },
   "source": [
    "df.info()"
   ],
   "outputs": [],
   "execution_count": null
  },
  {
   "cell_type": "code",
   "metadata": {
    "colab": {
     "base_uri": "https://localhost:8080/",
     "height": 300
    },
    "id": "wptuXbmBwZez",
    "outputId": "c4fb46f2-5702-41cb-dcfb-e7892b1ec7a2"
   },
   "source": [
    "df.describe()"
   ],
   "outputs": [],
   "execution_count": null
  },
  {
   "cell_type": "code",
   "metadata": {
    "colab": {
     "base_uri": "https://localhost:8080/"
    },
    "id": "yZstKUdN0M4Y",
    "outputId": "43fed34d-9b24-4c09-9823-f1aa32bc709e"
   },
   "source": [
    "df.shape"
   ],
   "outputs": [],
   "execution_count": null
  },
  {
   "cell_type": "code",
   "metadata": {
    "colab": {
     "base_uri": "https://localhost:8080/"
    },
    "id": "MDABm-ES0RLe",
    "outputId": "64d82c93-209f-4178-d32f-defe308618ac"
   },
   "source": [
    "linhas, colunas = df.shape[0], df.shape[1]\n",
    "print('Linhas:', linhas)\n",
    "print('Colunas:', colunas)"
   ],
   "outputs": [],
   "execution_count": null
  },
  {
   "cell_type": "code",
   "metadata": {
    "colab": {
     "base_uri": "https://localhost:8080/"
    },
    "id": "50tKfITQwe97",
    "outputId": "308d47c0-a593-48f3-9f2e-7be99395ec93"
   },
   "source": [
    "df.columns"
   ],
   "outputs": [],
   "execution_count": null
  },
  {
   "cell_type": "markdown",
   "source": [
    "### Renomeando as colunas do DataFrame"
   ],
   "metadata": {
    "id": "ZHUv0vzWMAMZ"
   }
  },
  {
   "cell_type": "code",
   "metadata": {
    "colab": {
     "base_uri": "https://localhost:8080/",
     "height": 206
    },
    "id": "t4TR1wP0ysJ3",
    "outputId": "82d7639a-cc30-4385-f394-ed6a43411243"
   },
   "source": [
    "# Dicionário de renomeação\n",
    "novos_nomes = {\n",
    "    'work_year': 'ano',\n",
    "    'experience_level': 'senioridade',\n",
    "    'employment_type': 'contrato',\n",
    "    'job_title': 'cargo',\n",
    "    'salary': 'salario',\n",
    "    'salary_currency': 'moeda',\n",
    "    'salary_in_usd': 'usd',\n",
    "    'employee_residence': 'residencia',\n",
    "    'remote_ratio': 'remoto',\n",
    "    'company_location': 'empresa',\n",
    "    'company_size': 'tamanho_empresa'\n",
    "}\n",
    "\n",
    "# Aplicando renomeação\n",
    "df.rename(columns=novos_nomes, inplace=True)\n",
    "\n",
    "# Verificando resultado\n",
    "df.head()"
   ],
   "outputs": [],
   "execution_count": null
  },
  {
   "cell_type": "markdown",
   "source": [
    "### Analisando quais são as categorias das colunas categóricas"
   ],
   "metadata": {
    "id": "_mpHEonFMFxX"
   }
  },
  {
   "cell_type": "markdown",
   "source": [
    "#### Nível de senioridade"
   ],
   "metadata": {
    "id": "cF4cKLZ-MZgB"
   }
  },
  {
   "cell_type": "code",
   "metadata": {
    "colab": {
     "base_uri": "https://localhost:8080/",
     "height": 241
    },
    "id": "0XA0Gu3fyw25",
    "outputId": "d27bc163-d929-4d0f-e40e-ac2543b35866"
   },
   "source": [
    "# O método .value_counts() serve para contar quantas vezes cada valor único aparece em uma coluna.\n",
    "df['senioridade'].value_counts()"
   ],
   "outputs": [],
   "execution_count": null
  },
  {
   "cell_type": "markdown",
   "metadata": {
    "id": "jmPdIrIH1X2R"
   },
   "source": [
    "| Sigla | Significado | Descrição                                 |\n",
    "|-------|-------------|--------------------------------------------|\n",
    "| SE    | Senior      | Profissional experiente (nível sênior)     |\n",
    "| MI    | Mid         | Nível intermediário                        |\n",
    "| EN    | Entry       | Iniciante ou júnior (entry-level)          |\n",
    "| EX    | Executive   | Executivo, liderança sênior (C-Level)      |\n"
   ]
  },
  {
   "cell_type": "markdown",
   "source": [
    "#### Tipo de contrato"
   ],
   "metadata": {
    "id": "ULdAvyEbMd1-"
   }
  },
  {
   "cell_type": "code",
   "metadata": {
    "colab": {
     "base_uri": "https://localhost:8080/",
     "height": 241
    },
    "id": "tZTJ-A7mz_Uy",
    "outputId": "64a9fc90-f670-4aa4-8836-e2a767097fca"
   },
   "source": [
    "df['contrato'].value_counts()"
   ],
   "outputs": [],
   "execution_count": null
  },
  {
   "cell_type": "markdown",
   "metadata": {
    "id": "VkjSU5ES1ijf"
   },
   "source": [
    "| Sigla | Significado  | Descrição                                                           |\n",
    "|-------|--------------|----------------------------------------------------------------------|\n",
    "| FT    | Full-time    | Tempo integral – trabalho padrão de 40h/semana ou período completo   |\n",
    "| PT    | Part-time    | Meio período – carga horária reduzida                                |\n",
    "| CT    | Contract     | Contrato temporário ou por projeto – geralmente por prazo determinado|\n",
    "| FL    | Freelance    | Freelancer – trabalho autônomo ou por demanda, sem vínculo formal    |\n"
   ]
  },
  {
   "cell_type": "markdown",
   "source": [
    "#### Regime de trabalho"
   ],
   "metadata": {
    "id": "GbqEJn1sMfkO"
   }
  },
  {
   "cell_type": "code",
   "metadata": {
    "colab": {
     "base_uri": "https://localhost:8080/",
     "height": 210
    },
    "id": "wN1XEo4M05zY",
    "outputId": "4d705615-1284-4aea-857e-b3cda924537e"
   },
   "source": [
    "df['remoto'].value_counts()"
   ],
   "outputs": [],
   "execution_count": null
  },
  {
   "cell_type": "markdown",
   "metadata": {
    "id": "bk_bsh8q1ZzX"
   },
   "source": [
    "O modelo remoto permite trabalhar de qualquer lugar sem precisar ir à empresa. O modelo presencial exige ir até o escritório todos os dias. O híbrido mistura os dois modelos. O modelo 'everywhere' é mais raro e permite trabalhar de qualquer lugar do mundo sem restrição de país ou cidade."
   ]
  },
  {
   "cell_type": "markdown",
   "source": [
    "| Sigla | Significado |\n",
    "|-------|-------------|\n",
    "| 0     | Presencial  |\n",
    "| 100   | Remoto      |\n",
    "| 50    | Híbrido     |"
   ],
   "metadata": {
    "id": "WfM-HUGeIVDY"
   }
  },
  {
   "cell_type": "markdown",
   "source": [
    "#### Tamanho da empresa"
   ],
   "metadata": {
    "id": "dQwYzhSRMve-"
   }
  },
  {
   "cell_type": "code",
   "metadata": {
    "colab": {
     "base_uri": "https://localhost:8080/",
     "height": 210
    },
    "id": "RfsK5Or70HMC",
    "outputId": "2bb47311-113d-46c7-f42e-3b71b98f26fd"
   },
   "source": [
    "df['tamanho_empresa'].value_counts()"
   ],
   "outputs": [],
   "execution_count": null
  },
  {
   "cell_type": "markdown",
   "source": [
    "| Sigla | Significado  | Descrição                                                           |\n",
    "|-------|--------------|----------------------------------------------------------------------|\n",
    "| M   | Medium    | Empresa de tamanho médio|\n",
    "| L    | Large    | Empresa de tamanho grande                                |\n",
    "| S    | Small    | Empresa de tamanho pequeno|\n"
   ],
   "metadata": {
    "id": "6HSJ4vWQIBXV"
   }
  },
  {
   "cell_type": "markdown",
   "source": [
    "### Modificando o nome das categorias:"
   ],
   "metadata": {
    "id": "RK2gAAcOJLmQ"
   }
  },
  {
   "cell_type": "code",
   "metadata": {
    "colab": {
     "base_uri": "https://localhost:8080/",
     "height": 241
    },
    "id": "gOrtOGVn2nVV",
    "outputId": "ae47893e-5d90-4c4d-b846-8259b6c1e916"
   },
   "source": [
    "senioridade = {\n",
    "    'SE': 'senior',\n",
    "    'MI': 'pleno',\n",
    "    'EN': 'junior',\n",
    "    'EX': 'executivo'\n",
    "}\n",
    "df['senioridade'] = df['senioridade'].replace(senioridade)\n",
    "df['senioridade'].value_counts()"
   ],
   "outputs": [],
   "execution_count": null
  },
  {
   "cell_type": "code",
   "metadata": {
    "colab": {
     "base_uri": "https://localhost:8080/",
     "height": 241
    },
    "id": "oe8EUR-33XOM",
    "outputId": "0c60de01-d0d5-46fe-bd91-57284b0e7080"
   },
   "source": [
    "contrato = {\n",
    "    'FT': 'integral',\n",
    "    'PT': 'parcial',\n",
    "    'CT': 'contrato',\n",
    "    'FL': 'freelancer'\n",
    "}\n",
    "df['contrato'] = df['contrato'].replace(contrato)\n",
    "df['contrato'].value_counts()"
   ],
   "outputs": [],
   "execution_count": null
  },
  {
   "cell_type": "code",
   "metadata": {
    "colab": {
     "base_uri": "https://localhost:8080/",
     "height": 210
    },
    "id": "EPZCuEgY256F",
    "outputId": "46bdd9c1-6950-4142-ea60-dcf0a33fe1d7"
   },
   "source": [
    "tamanho_empresa = {\n",
    "    'L': 'grande',\n",
    "    'S': 'pequena',\n",
    "    'M':\t'media'\n",
    "\n",
    "}\n",
    "df['tamanho_empresa'] = df['tamanho_empresa'].replace(tamanho_empresa)\n",
    "df['tamanho_empresa'].value_counts()"
   ],
   "outputs": [],
   "execution_count": null
  },
  {
   "cell_type": "code",
   "metadata": {
    "colab": {
     "base_uri": "https://localhost:8080/",
     "height": 210
    },
    "id": "kXwE3VEI1LWn",
    "outputId": "855293c8-450c-45b1-aa0a-3987be827611"
   },
   "source": [
    "mapa_trabalho = {\n",
    "    0: 'presencial',\n",
    "    100: 'remoto',\n",
    "    50: 'hibrido'\n",
    "}\n",
    "\n",
    "df['remoto'] = df['remoto'].replace(mapa_trabalho)\n",
    "df['remoto'].value_counts()"
   ],
   "outputs": [],
   "execution_count": null
  },
  {
   "cell_type": "code",
   "metadata": {
    "colab": {
     "base_uri": "https://localhost:8080/",
     "height": 206
    },
    "id": "jJyY-J-w3iMF",
    "outputId": "380fa3db-b258-421f-d967-f6db41632c92"
   },
   "source": [
    "df.head()"
   ],
   "outputs": [],
   "execution_count": null
  },
  {
   "cell_type": "markdown",
   "metadata": {
    "id": "LjCF5O3H1EgI"
   },
   "source": [
    "Podemos também resumir as informações categóricas com o método `describe()`, exibindo a quantidade de categorias únicas, qual é categoria mais frequente e sua respectiva frequência:"
   ]
  },
  {
   "cell_type": "code",
   "metadata": {
    "colab": {
     "base_uri": "https://localhost:8080/",
     "height": 175
    },
    "id": "fnePJ9aB0-96",
    "outputId": "650fca59-9166-4c83-ee22-f7a41aa50519"
   },
   "source": [
    "df.describe(include='object')"
   ],
   "outputs": [],
   "execution_count": null
  },
  {
   "cell_type": "markdown",
   "metadata": {
    "id": "eBb5Evgw69OI"
   },
   "source": [
    "O código é um passo a passo para entender, limpar e preparar a base de dados para análises mais profundas, facilitando a visualização de padrões e tendências no mercado de trabalho em ciência de dados."
   ]
  },
  {
   "cell_type": "markdown",
   "metadata": {
    "id": "niEWqAsK7Tf1"
   },
   "source": [
    "# Preparação e limpeza dos Dados\n",
    "\n",
    "\n"
   ]
  },
  {
   "cell_type": "code",
   "metadata": {
    "colab": {
     "base_uri": "https://localhost:8080/",
     "height": 424
    },
    "id": "_HA2dtUbZ53i",
    "outputId": "9b02c309-8432-490d-e1b0-aa5bc554677c"
   },
   "source": [
    "df.isnull()"
   ],
   "outputs": [],
   "execution_count": null
  },
  {
   "cell_type": "code",
   "source": [
    "df.head()"
   ],
   "metadata": {
    "colab": {
     "base_uri": "https://localhost:8080/",
     "height": 206
    },
    "id": "KNn1075EhGnS",
    "outputId": "16b72b1a-43c4-4b45-8e17-f1ce6f7a5490"
   },
   "outputs": [],
   "execution_count": null
  },
  {
   "cell_type": "code",
   "source": [
    "df.isnull().sum()"
   ],
   "metadata": {
    "colab": {
     "base_uri": "https://localhost:8080/",
     "height": 429
    },
    "id": "HzmV6VKXhaQ2",
    "outputId": "08826b1f-8c70-47a5-9460-31fc09db672e"
   },
   "outputs": [],
   "execution_count": null
  },
  {
   "cell_type": "code",
   "source": [
    "df['ano'].unique()"
   ],
   "metadata": {
    "colab": {
     "base_uri": "https://localhost:8080/"
    },
    "id": "3Hkx81sRhtZT",
    "outputId": "a2acb17f-4c82-4349-ffe5-f43a9f532665"
   },
   "outputs": [],
   "execution_count": null
  },
  {
   "cell_type": "code",
   "source": [
    "df[df.isnull().any(axis=1)]"
   ],
   "metadata": {
    "colab": {
     "base_uri": "https://localhost:8080/",
     "height": 363
    },
    "id": "dG2fciyyiBv9",
    "outputId": "0c137668-f127-46af-823d-47d2f1848ab8"
   },
   "outputs": [],
   "execution_count": null
  },
  {
   "cell_type": "code",
   "source": [
    "import numpy as np"
   ],
   "metadata": {
    "id": "vNkQqbtgjDBl"
   },
   "execution_count": 27,
   "outputs": []
  },
  {
   "cell_type": "code",
   "source": [
    "df_limpo = df.dropna()"
   ],
   "metadata": {
    "id": "hkovZHCDrlM0"
   },
   "outputs": [],
   "execution_count": null
  },
  {
   "cell_type": "code",
   "source": [
    "df_limpo.isnull().sum()"
   ],
   "metadata": {
    "colab": {
     "base_uri": "https://localhost:8080/",
     "height": 429
    },
    "id": "5Qxgwotir2MR",
    "outputId": "9caa9347-9235-45f6-8e8d-40753c943fac"
   },
   "outputs": [],
   "execution_count": null
  },
  {
   "cell_type": "code",
   "source": [
    "df_limpo.head()"
   ],
   "metadata": {
    "colab": {
     "base_uri": "https://localhost:8080/",
     "height": 206
    },
    "id": "elMqYM75sAAp",
    "outputId": "a05e1bd0-382f-4976-c49f-483539d22b8f"
   },
   "outputs": [],
   "execution_count": null
  },
  {
   "cell_type": "code",
   "source": [
    "df_limpo.info()"
   ],
   "metadata": {
    "colab": {
     "base_uri": "https://localhost:8080/"
    },
    "id": "aR9ZlmNAsOs9",
    "outputId": "6a4cdc5a-de6d-4ac1-de28-ac7190e16c08"
   },
   "outputs": [],
   "execution_count": null
  },
  {
   "cell_type": "code",
   "source": [
    "df_limpo = df_limpo.assign(ano = df_limpo['ano'].astype('int64'))"
   ],
   "metadata": {
    "id": "1lT54ntHsfgc"
   },
   "outputs": [],
   "execution_count": null
  },
  {
   "cell_type": "markdown",
   "source": [
    "# Visualização de Dados\n",
    "Criação de gráficos estatísticos para explorar e comunicar informações presentes nos dados. Histogramas, boxplots, barras, etc."
   ],
   "metadata": {
    "id": "WhKDuBgzM1UZ"
   }
  },
  {
   "cell_type": "code",
   "source": [
    "df_limpo.head()"
   ],
   "metadata": {
    "colab": {
     "base_uri": "https://localhost:8080/",
     "height": 206
    },
    "id": "oB8DoGxdNMFq",
    "outputId": "589e4c6a-5d67-4865-9d36-bd4b33371185"
   },
   "outputs": [],
   "execution_count": null
  },
  {
   "cell_type": "code",
   "source": [
    "df_limpo['senioridade'].value_counts().plot(kind='bar', title=\"Distribuição de senioridade\")"
   ],
   "metadata": {
    "colab": {
     "base_uri": "https://localhost:8080/",
     "height": 542
    },
    "id": "Vkizg_CcPmSU",
    "outputId": "355619d8-22e5-4831-b06a-8f6675f187c5"
   },
   "outputs": [],
   "execution_count": null
  },
  {
   "cell_type": "code",
   "source": [
    "import seaborn as sns"
   ],
   "metadata": {
    "id": "UmrbNfcjRSEP"
   },
   "outputs": [],
   "execution_count": null
  },
  {
   "cell_type": "code",
   "source": [
    "sns.barplot(data=df_limpo, x='senioridade', y='usd')"
   ],
   "metadata": {
    "colab": {
     "base_uri": "https://localhost:8080/",
     "height": 466
    },
    "id": "lUKvyqgNRklW",
    "outputId": "17a91ab5-eac7-4b4f-f203-bec714984e73"
   },
   "outputs": [],
   "execution_count": null
  },
  {
   "cell_type": "code",
   "source": [
    "df_limpo.groupby('senioridade')['usd'].mean().sort_values(ascending=False)"
   ],
   "metadata": {
    "colab": {
     "base_uri": "https://localhost:8080/",
     "height": 241
    },
    "id": "K_bRIUMNUFDf",
    "outputId": "b8bcef1c-40e4-42ef-f1c2-2c5abc87f387"
   },
   "outputs": [],
   "execution_count": null
  },
  {
   "cell_type": "code",
   "source": [
    "ordem = df_limpo.groupby('senioridade')['usd'].mean().sort_values(ascending=True).index"
   ],
   "metadata": {
    "id": "2SSpPsTXU68s"
   },
   "outputs": [],
   "execution_count": null
  },
  {
   "cell_type": "code",
   "source": [
    "ordem"
   ],
   "metadata": {
    "colab": {
     "base_uri": "https://localhost:8080/"
    },
    "id": "AwCt-lbn-9iw",
    "outputId": "b166d179-10b0-45be-8be8-398ec17feeab"
   },
   "outputs": [],
   "execution_count": null
  },
  {
   "cell_type": "code",
   "source": [
    "import matplotlib.pyplot as plt"
   ],
   "metadata": {
    "id": "4qkX_eHcSn4c"
   },
   "outputs": [],
   "execution_count": null
  },
  {
   "cell_type": "code",
   "source": [
    "plt.figure(figsize=(8,5))\n",
    "sns.barplot(data=df_limpo, x='senioridade', y='usd', order=ordem)\n",
    "plt.title(\"Salário médio por senioridade\")\n",
    "plt.xlabel(\"Senioridade\")\n",
    "plt.ylabel(\"Salário médio anual (USD)\")\n",
    "plt.show()"
   ],
   "metadata": {
    "colab": {
     "base_uri": "https://localhost:8080/",
     "height": 488
    },
    "id": "u607D6CxVPJc",
    "outputId": "1fc72e75-b1da-4a8f-b567-b12bbc23d1a6"
   },
   "outputs": [],
   "execution_count": null
  },
  {
   "cell_type": "code",
   "source": [
    "plt.figure(figsize=(10,5))\n",
    "sns.histplot(df_limpo['usd'], bins = 30, kde=True)\n",
    "plt.title(\"Distribuição dos salários anuais\")\n",
    "plt.xlabel(\"Salário em USD\")\n",
    "plt.ylabel(\"Frequência\")\n",
    "plt.show()"
   ],
   "metadata": {
    "colab": {
     "base_uri": "https://localhost:8080/",
     "height": 488
    },
    "id": "jj26ODR2VsK9",
    "outputId": "1815403f-e41b-43d3-d12d-1ca23572f6f0"
   },
   "outputs": [],
   "execution_count": null
  },
  {
   "cell_type": "code",
   "source": [
    "plt.figure(figsize=(8,5))\n",
    "sns.boxplot(x=df_limpo['usd'])\n",
    "plt.title(\"Boxplot Salário\")\n",
    "plt.xlabel(\"Salário em USD\")\n",
    "plt.show()"
   ],
   "metadata": {
    "colab": {
     "base_uri": "https://localhost:8080/",
     "height": 488
    },
    "id": "LemcyVWSYCep",
    "outputId": "1a8379cd-f5e5-47f8-f7ee-be91c9e24411"
   },
   "outputs": [],
   "execution_count": null
  },
  {
   "cell_type": "code",
   "source": [
    "ordem_senioridade = ['junior', 'pleno', 'senior', 'executivo']\n",
    "\n",
    "plt.figure(figsize=(8,5))\n",
    "sns.boxplot(x='senioridade', y='usd', data=df_limpo, order=ordem_senioridade, palette='Set2', hue='senioridade')\n",
    "plt.title(\"Boxplot da distribuição por senioridade\")\n",
    "plt.xlabel(\"Salário em USD\")\n",
    "plt.show()"
   ],
   "metadata": {
    "colab": {
     "base_uri": "https://localhost:8080/",
     "height": 487
    },
    "id": "aKBn2uaQaXj3",
    "outputId": "af396f2b-a773-4f41-8a81-bd6d81da0bd8"
   },
   "outputs": [],
   "execution_count": null
  },
  {
   "cell_type": "code",
   "source": [
    "import plotly.express as px"
   ],
   "metadata": {
    "id": "0q5tlVvJb6YF"
   },
   "execution_count": 51,
   "outputs": []
  },
  {
   "cell_type": "code",
   "source": [
    "# prompt: Crie um gráfico de média salarial por senioridade em barras usando o plotly\n",
    "\n",
    "senioridade_media_salario = df_limpo.groupby('senioridade')['usd'].mean().sort_values(ascending=False).reset_index()\n",
    "\n",
    "fig = px.bar(senioridade_media_salario,\n",
    "             x='senioridade',\n",
    "             y='usd',\n",
    "             title='Média Salarial por Senioridade',\n",
    "             labels={'senioridade': 'Nível de Senioridade', 'usd': 'Média Salarial Anual (USD)'})\n",
    "\n",
    "fig.show()"
   ],
   "metadata": {
    "colab": {
     "base_uri": "https://localhost:8080/",
     "height": 542
    },
    "id": "ahffca0gcJuI",
    "outputId": "28ea8149-ffca-4465-e22b-132a8a8c09cc"
   },
   "outputs": [],
   "execution_count": null
  },
  {
   "cell_type": "code",
   "source": [
    "remoto_contagem = df_limpo['remoto'].value_counts().reset_index()\n",
    "remoto_contagem.columns = ['tipo_trabalho', 'quantidade']\n",
    "\n",
    "fig = px.pie(remoto_contagem,\n",
    "             names='tipo_trabalho',\n",
    "             values='quantidade',\n",
    "             title='Proporção dos tipos de trabalho',\n",
    "             hole=0.5\n",
    "          )\n",
    "fig.update_traces(textinfo='percent+label')\n",
    "fig.show()"
   ],
   "metadata": {
    "colab": {
     "base_uri": "https://localhost:8080/",
     "height": 542
    },
    "id": "pvQXFjaGeZiY",
    "outputId": "e5ca2877-8590-43f3-9007-8b22d8ff7521"
   },
   "outputs": [],
   "execution_count": null
  },
  {
   "cell_type": "code",
   "source": [
    "df_limpo.head()"
   ],
   "metadata": {
    "colab": {
     "base_uri": "https://localhost:8080/",
     "height": 206
    },
    "id": "3VV_bMeXlFHB",
    "outputId": "acff3911-8196-4222-bf1e-56b2e3b95f9f"
   },
   "outputs": [],
   "execution_count": null
  },
  {
   "cell_type": "code",
   "source": [
    "pip install pycountry"
   ],
   "metadata": {
    "colab": {
     "base_uri": "https://localhost:8080/"
    },
    "id": "gejbPii_tfzd",
    "outputId": "cb2bff4b-64bb-442c-cd34-88dbf6ae70db"
   },
   "outputs": [],
   "execution_count": null
  },
  {
   "cell_type": "code",
   "source": [
    "import pycountry\n",
    "\n",
    "# Função para converter ISO-2 para ISO-3\n",
    "def iso2_to_iso3(code):\n",
    "    try:\n",
    "        return pycountry.countries.get(alpha_2=code).alpha_3\n",
    "    except:\n",
    "        return None\n",
    "\n",
    "# Criar nova coluna com código ISO-3\n",
    "df_limpo['residencia_iso3'] = df_limpo['residencia'].apply(iso2_to_iso3)\n",
    "\n",
    "# Calcular média salarial por país (ISO-3)\n",
    "df_ds = df_limpo[df_limpo['cargo'] == 'Data Scientist']\n",
    "media_ds_pais = df_ds.groupby('residencia_iso3')['usd'].mean().reset_index()\n",
    "\n",
    "# Gerar o mapa\n",
    "fig = px.choropleth(media_ds_pais,\n",
    "                    locations='residencia_iso3',\n",
    "                    color='usd',\n",
    "                    color_continuous_scale='rdylgn',\n",
    "                    title='Salário médio de Cientista de Dados por país',\n",
    "                    labels={'usd': 'Salário médio (USD)', 'residencia_iso3': 'País'})\n",
    "\n",
    "fig.show()"
   ],
   "metadata": {
    "colab": {
     "base_uri": "https://localhost:8080/",
     "height": 542
    },
    "id": "Pi0kdpnDtQiH",
    "outputId": "e38e006e-b08f-478c-d4f0-761103926afc"
   },
   "outputs": [],
   "execution_count": null
  },
  {
   "cell_type": "code",
   "source": [
    "df_limpo.head()"
   ],
   "metadata": {
    "colab": {
     "base_uri": "https://localhost:8080/",
     "height": 206
    },
    "id": "v8nk7ZzonEuM",
    "outputId": "bd0d6566-1dcb-4f74-feab-a4378936b410"
   },
   "outputs": [],
   "execution_count": null
  },
  {
   "cell_type": "code",
   "source": [
    "df_limpo.to_csv('dados-imersao-final.csv', index=False)"
   ],
   "metadata": {
    "id": "eqGMA50dnZCu"
   },
   "execution_count": 63,
   "outputs": []
  }
 ]
}
